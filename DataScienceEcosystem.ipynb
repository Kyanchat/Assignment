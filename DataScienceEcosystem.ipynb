{
 "cells": [
  {
   "cell_type": "markdown",
   "id": "7ef1d841",
   "metadata": {},
   "source": [
    "# Data Science Tools and Ecosystem"
   ]
  },
  {
   "cell_type": "markdown",
   "id": "36948e3a",
   "metadata": {},
   "source": [
    "This notebook provides a summary of Data Science tools and their ecosystem."
   ]
  },
  {
   "cell_type": "markdown",
   "id": "5282e5c7",
   "metadata": {},
   "source": [
    "**Objectives:**"
   ]
  },
  {
   "cell_type": "markdown",
   "id": "c662b472",
   "metadata": {},
   "source": [
    "- Data Science Languages\n",
    "- Data Science Libraries\n",
    "- Data Science Tools"
   ]
  },
  {
   "cell_type": "markdown",
   "id": "6b124464",
   "metadata": {},
   "source": [
    "## Data Science Languages"
   ]
  },
  {
   "cell_type": "markdown",
   "id": "6fdeb13e",
   "metadata": {},
   "source": [
    "Some of the popular languages that Data Scientists use are:\n",
    "- Python\n",
    "- C++\n",
    "- SQL"
   ]
  },
  {
   "cell_type": "markdown",
   "id": "b97fa1a6",
   "metadata": {},
   "source": [
    "## Data Science Libraries"
   ]
  },
  {
   "cell_type": "markdown",
   "id": "068ecf80",
   "metadata": {},
   "source": [
    "Some of the commonly used libraries used by Data Scientists include:\n",
    "- Pandas\n",
    "- Numpy\n",
    "- MatPlotLib"
   ]
  },
  {
   "cell_type": "markdown",
   "id": "0a8659d0",
   "metadata": {},
   "source": [
    "## Data Science Tools"
   ]
  },
  {
   "cell_type": "markdown",
   "id": "8b815fb5",
   "metadata": {},
   "source": [
    "| Data Science Tools |\n",
    "| ------ |\n",
    "| Jupyter |\n",
    "| Visual Studio |\n",
    "| Microsoft SQL Server |"
   ]
  },
  {
   "cell_type": "markdown",
   "id": "82b7494a",
   "metadata": {},
   "source": [
    "## Introducing Arithmetic Expression Examples"
   ]
  },
  {
   "cell_type": "markdown",
   "id": "5a9888ed",
   "metadata": {},
   "source": [
    "### Below are a few examples of evaluating arithmetic expressions in Python"
   ]
  },
  {
   "cell_type": "code",
   "execution_count": 3,
   "id": "97a9c4c7",
   "metadata": {},
   "outputs": [
    {
     "data": {
      "text/plain": [
       "17"
      ]
     },
     "execution_count": 3,
     "metadata": {},
     "output_type": "execute_result"
    }
   ],
   "source": [
    "#This a simple arithmetic expression to mutiply then add integers\n",
    "(3*4)+5"
   ]
  },
  {
   "cell_type": "code",
   "execution_count": 4,
   "id": "990fddfe",
   "metadata": {},
   "outputs": [
    {
     "name": "stdout",
     "output_type": "stream",
     "text": [
      "3.3333333333333335 hours\n"
     ]
    }
   ],
   "source": [
    "#This will convert 200 minutes to hours by diving by 60\n",
    "m = 200\n",
    "h = 200/60\n",
    "print(h, \"hours\")"
   ]
  },
  {
   "cell_type": "markdown",
   "id": "be60716b",
   "metadata": {},
   "source": [
    "## Author"
   ]
  },
  {
   "cell_type": "markdown",
   "id": "91567801",
   "metadata": {},
   "source": [
    "Elisha Johnson Kyanchat"
   ]
  },
  {
   "cell_type": "code",
   "execution_count": null,
   "id": "80104dcd",
   "metadata": {},
   "outputs": [],
   "source": []
  }
 ],
 "metadata": {
  "kernelspec": {
   "display_name": "Python 3 (ipykernel)",
   "language": "python",
   "name": "python3"
  },
  "language_info": {
   "codemirror_mode": {
    "name": "ipython",
    "version": 3
   },
   "file_extension": ".py",
   "mimetype": "text/x-python",
   "name": "python",
   "nbconvert_exporter": "python",
   "pygments_lexer": "ipython3",
   "version": "3.11.7"
  }
 },
 "nbformat": 4,
 "nbformat_minor": 5
}
